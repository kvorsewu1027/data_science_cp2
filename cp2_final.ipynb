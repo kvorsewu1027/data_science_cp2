{
 "cells": [
  {
   "cell_type": "code",
   "execution_count": 2,
   "metadata": {},
   "outputs": [],
   "source": [
    "import pandas as pd\n",
    "import numpy as np\n",
    "import matplotlib.pyplot as plt\n",
    "from numpy import array\n",
    "import datetime \n",
    "from sklearn.feature_extraction.text import CountVectorizer\n",
    "from sklearn.feature_extraction.text import TfidfTransformer\n",
    "from sklearn.feature_extraction.text import TfidfVectorizer"
   ]
  },
  {
   "cell_type": "code",
   "execution_count": 3,
   "metadata": {},
   "outputs": [],
   "source": [
    "# Load train, test data\n",
    "data = pd.read_csv('training_data.csv',error_bad_lines=False) #read csv file\n",
    "test = pd.read_csv('test_data.csv',error_bad_lines=False) #read csv file\n",
    "positive_word = pd.read_csv('positive-words.csv',error_bad_lines=False) #read csv file\n",
    "negative_word = pd.read_csv('negative-words.csv',error_bad_lines=False) #read csv file"
   ]
  },
  {
   "cell_type": "code",
   "execution_count": 4,
   "metadata": {},
   "outputs": [
    {
     "name": "stdout",
     "output_type": "stream",
     "text": [
      "(7997, 6)\n",
      "(2003, 5)\n"
     ]
    }
   ],
   "source": [
    "# check the shape of data\n",
    "print(data.shape)\n",
    "print(test.shape)"
   ]
  },
  {
   "cell_type": "code",
   "execution_count": 5,
   "metadata": {},
   "outputs": [
    {
     "data": {
      "text/html": [
       "<div>\n",
       "<style scoped>\n",
       "    .dataframe tbody tr th:only-of-type {\n",
       "        vertical-align: middle;\n",
       "    }\n",
       "\n",
       "    .dataframe tbody tr th {\n",
       "        vertical-align: top;\n",
       "    }\n",
       "\n",
       "    .dataframe thead th {\n",
       "        text-align: right;\n",
       "    }\n",
       "</style>\n",
       "<table border=\"1\" class=\"dataframe\">\n",
       "  <thead>\n",
       "    <tr style=\"text-align: right;\">\n",
       "      <th></th>\n",
       "      <th>review_id</th>\n",
       "      <th>business_id</th>\n",
       "      <th>user_id</th>\n",
       "      <th>text</th>\n",
       "      <th>date</th>\n",
       "    </tr>\n",
       "  </thead>\n",
       "  <tbody>\n",
       "    <tr>\n",
       "      <th>0</th>\n",
       "      <td>2713</td>\n",
       "      <td>668</td>\n",
       "      <td>2196</td>\n",
       "      <td>Ticoz is not a bad place.  The menu is eclecti...</td>\n",
       "      <td>2009-01-04</td>\n",
       "    </tr>\n",
       "    <tr>\n",
       "      <th>1</th>\n",
       "      <td>4734</td>\n",
       "      <td>1014</td>\n",
       "      <td>3521</td>\n",
       "      <td>Wow!\\nBeing a Phoenix native, we have enjoyed ...</td>\n",
       "      <td>2010-10-05</td>\n",
       "    </tr>\n",
       "    <tr>\n",
       "      <th>2</th>\n",
       "      <td>5598</td>\n",
       "      <td>2939</td>\n",
       "      <td>3028</td>\n",
       "      <td>Jodi is fantastic!  Extraordinary!  After too ...</td>\n",
       "      <td>2011-04-29</td>\n",
       "    </tr>\n",
       "    <tr>\n",
       "      <th>3</th>\n",
       "      <td>9545</td>\n",
       "      <td>4077</td>\n",
       "      <td>6200</td>\n",
       "      <td>T&amp;S Glass did a wonderful job replacing my car...</td>\n",
       "      <td>2007-10-02</td>\n",
       "    </tr>\n",
       "    <tr>\n",
       "      <th>4</th>\n",
       "      <td>1471</td>\n",
       "      <td>1126</td>\n",
       "      <td>1268</td>\n",
       "      <td>My experience was on a random Saturday afterno...</td>\n",
       "      <td>2010-08-16</td>\n",
       "    </tr>\n",
       "  </tbody>\n",
       "</table>\n",
       "</div>"
      ],
      "text/plain": [
       "   review_id  business_id  user_id  \\\n",
       "0       2713          668     2196   \n",
       "1       4734         1014     3521   \n",
       "2       5598         2939     3028   \n",
       "3       9545         4077     6200   \n",
       "4       1471         1126     1268   \n",
       "\n",
       "                                                text        date  \n",
       "0  Ticoz is not a bad place.  The menu is eclecti...  2009-01-04  \n",
       "1  Wow!\\nBeing a Phoenix native, we have enjoyed ...  2010-10-05  \n",
       "2  Jodi is fantastic!  Extraordinary!  After too ...  2011-04-29  \n",
       "3  T&S Glass did a wonderful job replacing my car...  2007-10-02  \n",
       "4  My experience was on a random Saturday afterno...  2010-08-16  "
      ]
     },
     "execution_count": 5,
     "metadata": {},
     "output_type": "execute_result"
    }
   ],
   "source": [
    "test.head()"
   ]
  },
  {
   "cell_type": "code",
   "execution_count": 6,
   "metadata": {
    "scrolled": true
   },
   "outputs": [
    {
     "data": {
      "text/html": [
       "<div>\n",
       "<style scoped>\n",
       "    .dataframe tbody tr th:only-of-type {\n",
       "        vertical-align: middle;\n",
       "    }\n",
       "\n",
       "    .dataframe tbody tr th {\n",
       "        vertical-align: top;\n",
       "    }\n",
       "\n",
       "    .dataframe thead th {\n",
       "        text-align: right;\n",
       "    }\n",
       "</style>\n",
       "<table border=\"1\" class=\"dataframe\">\n",
       "  <thead>\n",
       "    <tr style=\"text-align: right;\">\n",
       "      <th></th>\n",
       "      <th>review_id</th>\n",
       "      <th>business_id</th>\n",
       "      <th>user_id</th>\n",
       "      <th>text</th>\n",
       "      <th>date</th>\n",
       "      <th>stars</th>\n",
       "    </tr>\n",
       "  </thead>\n",
       "  <tbody>\n",
       "    <tr>\n",
       "      <th>0</th>\n",
       "      <td>3223</td>\n",
       "      <td>2055</td>\n",
       "      <td>2533</td>\n",
       "      <td>Sometimes things happen, and when they do this...</td>\n",
       "      <td>2010-12-30</td>\n",
       "      <td>5</td>\n",
       "    </tr>\n",
       "    <tr>\n",
       "      <th>1</th>\n",
       "      <td>9938</td>\n",
       "      <td>4165</td>\n",
       "      <td>6371</td>\n",
       "      <td>I know Kerrie through my networking and we ben...</td>\n",
       "      <td>2011-04-26</td>\n",
       "      <td>5</td>\n",
       "    </tr>\n",
       "    <tr>\n",
       "      <th>2</th>\n",
       "      <td>7123</td>\n",
       "      <td>869</td>\n",
       "      <td>4929</td>\n",
       "      <td>Love their pizza!!!\\nVery fresh. Their cannoli...</td>\n",
       "      <td>2012-09-28</td>\n",
       "      <td>5</td>\n",
       "    </tr>\n",
       "    <tr>\n",
       "      <th>3</th>\n",
       "      <td>3601</td>\n",
       "      <td>1603</td>\n",
       "      <td>2789</td>\n",
       "      <td>Being from NJ I am always on the prowl for my ...</td>\n",
       "      <td>2009-06-07</td>\n",
       "      <td>4</td>\n",
       "    </tr>\n",
       "    <tr>\n",
       "      <th>4</th>\n",
       "      <td>3948</td>\n",
       "      <td>2347</td>\n",
       "      <td>1245</td>\n",
       "      <td>We have tried this spot a few times and each v...</td>\n",
       "      <td>2011-02-20</td>\n",
       "      <td>4</td>\n",
       "    </tr>\n",
       "  </tbody>\n",
       "</table>\n",
       "</div>"
      ],
      "text/plain": [
       "   review_id  business_id  user_id  \\\n",
       "0       3223         2055     2533   \n",
       "1       9938         4165     6371   \n",
       "2       7123          869     4929   \n",
       "3       3601         1603     2789   \n",
       "4       3948         2347     1245   \n",
       "\n",
       "                                                text        date  stars  \n",
       "0  Sometimes things happen, and when they do this...  2010-12-30      5  \n",
       "1  I know Kerrie through my networking and we ben...  2011-04-26      5  \n",
       "2  Love their pizza!!!\\nVery fresh. Their cannoli...  2012-09-28      5  \n",
       "3  Being from NJ I am always on the prowl for my ...  2009-06-07      4  \n",
       "4  We have tried this spot a few times and each v...  2011-02-20      4  "
      ]
     },
     "execution_count": 6,
     "metadata": {},
     "output_type": "execute_result"
    }
   ],
   "source": [
    "data.head()"
   ]
  },
  {
   "cell_type": "code",
   "execution_count": 7,
   "metadata": {},
   "outputs": [
    {
     "data": {
      "text/plain": [
       "False"
      ]
     },
     "execution_count": 7,
     "metadata": {},
     "output_type": "execute_result"
    }
   ],
   "source": [
    "# check null data\n",
    "data.isnull().values.any()"
   ]
  },
  {
   "cell_type": "code",
   "execution_count": 8,
   "metadata": {},
   "outputs": [
    {
     "data": {
      "text/plain": [
       "False"
      ]
     },
     "execution_count": 8,
     "metadata": {},
     "output_type": "execute_result"
    }
   ],
   "source": [
    "# check null data\n",
    "test.isnull().values.any()"
   ]
  },
  {
   "cell_type": "code",
   "execution_count": 9,
   "metadata": {},
   "outputs": [
    {
     "data": {
      "text/plain": [
       "pandas.core.series.Series"
      ]
     },
     "execution_count": 9,
     "metadata": {},
     "output_type": "execute_result"
    }
   ],
   "source": [
    "type(data['text'])"
   ]
  },
  {
   "cell_type": "code",
   "execution_count": 10,
   "metadata": {},
   "outputs": [],
   "source": [
    "#print(data['text'])"
   ]
  },
  {
   "cell_type": "code",
   "execution_count": 11,
   "metadata": {},
   "outputs": [],
   "source": [
    "#train\n",
    "cv = CountVectorizer()\n",
    "tf = cv.fit_transform(data['text']).toarray()\n",
    "#test\n",
    "cv_test = CountVectorizer()\n",
    "tf_test = cv.fit_transform(test['text']).toarray()"
   ]
  },
  {
   "cell_type": "code",
   "execution_count": 12,
   "metadata": {
    "scrolled": false
   },
   "outputs": [],
   "source": [
    "#cv.vocabulary_\n",
    "#print(cv.vocabulary_)\n",
    "#plt.figure();\n",
    "#plt.bar(cv.vocabulary_)"
   ]
  },
  {
   "cell_type": "code",
   "execution_count": 13,
   "metadata": {},
   "outputs": [],
   "source": [
    "feature_name = cv.get_feature_names() \n",
    "#feature_name"
   ]
  },
  {
   "cell_type": "code",
   "execution_count": 14,
   "metadata": {},
   "outputs": [],
   "source": [
    "#print(cv.vocabulary_['good'])\n",
    "#print(cv.vocabulary_['bad'])\n",
    "#print(cv.vocabulary_['enjoy'])\n",
    " "
   ]
  },
  {
   "cell_type": "code",
   "execution_count": 15,
   "metadata": {},
   "outputs": [],
   "source": [
    "#tf_norm = tf[2] / np.sqrt(np.sum(tf[2]**2))\n",
    "#tf_norm"
   ]
  },
  {
   "cell_type": "code",
   "execution_count": 16,
   "metadata": {},
   "outputs": [
    {
     "data": {
      "text/plain": [
       "TfidfVectorizer(analyzer='word', binary=False, decode_error='strict',\n",
       "        dtype=<class 'numpy.int64'>, encoding='utf-8', input='content',\n",
       "        lowercase=True, max_df=1.0, max_features=None, min_df=1,\n",
       "        ngram_range=(1, 1), norm='l2', preprocessor=None, smooth_idf=True,\n",
       "        stop_words=None, strip_accents=None, sublinear_tf=False,\n",
       "        token_pattern='(?u)\\\\b\\\\w\\\\w+\\\\b', tokenizer=None, use_idf=True,\n",
       "        vocabulary=None)"
      ]
     },
     "execution_count": 16,
     "metadata": {},
     "output_type": "execute_result"
    }
   ],
   "source": [
    "#train\n",
    "tfidf_vectorizer = TfidfVectorizer()\n",
    "tfidf_vectorizer.fit(data['text'])\n",
    "#test\n",
    "tfidf_vectorizer_test = TfidfVectorizer()\n",
    "tfidf_vectorizer_test.fit(test['text'])"
   ]
  },
  {
   "cell_type": "code",
   "execution_count": 17,
   "metadata": {},
   "outputs": [
    {
     "name": "stdout",
     "output_type": "stream",
     "text": [
      "(7997, 26351)\n"
     ]
    }
   ],
   "source": [
    "np.set_printoptions(precision=2)\n",
    "#print(tfidf_vectorizer.transform(data['text']).toarray())\n",
    "text_result = tfidf_vectorizer.transform(data['text']).toarray()\n",
    "print(text_result.shape)\n",
    "\n",
    "#test\n",
    "text_result_test = tfidf_vectorizer_test.transform(test['text']).toarray()"
   ]
  },
  {
   "cell_type": "code",
   "execution_count": 18,
   "metadata": {
    "scrolled": true
   },
   "outputs": [
    {
     "name": "stdout",
     "output_type": "stream",
     "text": [
      "[[-0.07  0.09]\n",
      " [-0.12 -0.02]\n",
      " [-0.16 -0.06]\n",
      " ...\n",
      " [ 0.06  0.24]\n",
      " [ 0.1   0.27]\n",
      " [-0.21 -0.04]]\n"
     ]
    }
   ],
   "source": [
    "from sklearn.decomposition import PCA\n",
    "pca = PCA(n_components=2, svd_solver='auto')\n",
    "reduced = pca.fit_transform(text_result)\n",
    "print(reduced)\n",
    "#print(pca.explained_variance_ratio_)  \n",
    "#print(pca.singular_values_)  "
   ]
  },
  {
   "cell_type": "code",
   "execution_count": 19,
   "metadata": {},
   "outputs": [
    {
     "data": {
      "text/plain": [
       "array([[-0.06, -0.04],\n",
       "       [ 0.23,  0.05],\n",
       "       [-0.12,  0.05],\n",
       "       ...,\n",
       "       [-0.04,  0.06],\n",
       "       [ 0.07,  0.08],\n",
       "       [-0.03, -0.16]])"
      ]
     },
     "execution_count": 19,
     "metadata": {},
     "output_type": "execute_result"
    }
   ],
   "source": [
    "#test\n",
    "reduced_test = pca.fit_transform(text_result_test)\n",
    "reduced_test"
   ]
  },
  {
   "cell_type": "code",
   "execution_count": 24,
   "metadata": {},
   "outputs": [
    {
     "name": "stdout",
     "output_type": "stream",
     "text": [
      "(7997, 2)\n"
     ]
    }
   ],
   "source": [
    "type(reduced)\n",
    "print(reduced.shape)"
   ]
  },
  {
   "cell_type": "code",
   "execution_count": 21,
   "metadata": {},
   "outputs": [
    {
     "data": {
      "text/html": [
       "<div>\n",
       "<style scoped>\n",
       "    .dataframe tbody tr th:only-of-type {\n",
       "        vertical-align: middle;\n",
       "    }\n",
       "\n",
       "    .dataframe tbody tr th {\n",
       "        vertical-align: top;\n",
       "    }\n",
       "\n",
       "    .dataframe thead th {\n",
       "        text-align: right;\n",
       "    }\n",
       "</style>\n",
       "<table border=\"1\" class=\"dataframe\">\n",
       "  <thead>\n",
       "    <tr style=\"text-align: right;\">\n",
       "      <th></th>\n",
       "      <th>review_id</th>\n",
       "      <th>business_id</th>\n",
       "      <th>user_id</th>\n",
       "      <th>text</th>\n",
       "      <th>date</th>\n",
       "      <th>stars</th>\n",
       "    </tr>\n",
       "  </thead>\n",
       "  <tbody>\n",
       "    <tr>\n",
       "      <th>0</th>\n",
       "      <td>3223</td>\n",
       "      <td>2055</td>\n",
       "      <td>2533</td>\n",
       "      <td>Sometimes things happen, and when they do this...</td>\n",
       "      <td>2010-12-30</td>\n",
       "      <td>5</td>\n",
       "    </tr>\n",
       "    <tr>\n",
       "      <th>1</th>\n",
       "      <td>9938</td>\n",
       "      <td>4165</td>\n",
       "      <td>6371</td>\n",
       "      <td>I know Kerrie through my networking and we ben...</td>\n",
       "      <td>2011-04-26</td>\n",
       "      <td>5</td>\n",
       "    </tr>\n",
       "    <tr>\n",
       "      <th>2</th>\n",
       "      <td>7123</td>\n",
       "      <td>869</td>\n",
       "      <td>4929</td>\n",
       "      <td>Love their pizza!!!\\nVery fresh. Their cannoli...</td>\n",
       "      <td>2012-09-28</td>\n",
       "      <td>5</td>\n",
       "    </tr>\n",
       "    <tr>\n",
       "      <th>3</th>\n",
       "      <td>3601</td>\n",
       "      <td>1603</td>\n",
       "      <td>2789</td>\n",
       "      <td>Being from NJ I am always on the prowl for my ...</td>\n",
       "      <td>2009-06-07</td>\n",
       "      <td>4</td>\n",
       "    </tr>\n",
       "    <tr>\n",
       "      <th>4</th>\n",
       "      <td>3948</td>\n",
       "      <td>2347</td>\n",
       "      <td>1245</td>\n",
       "      <td>We have tried this spot a few times and each v...</td>\n",
       "      <td>2011-02-20</td>\n",
       "      <td>4</td>\n",
       "    </tr>\n",
       "  </tbody>\n",
       "</table>\n",
       "</div>"
      ],
      "text/plain": [
       "   review_id  business_id  user_id  \\\n",
       "0       3223         2055     2533   \n",
       "1       9938         4165     6371   \n",
       "2       7123          869     4929   \n",
       "3       3601         1603     2789   \n",
       "4       3948         2347     1245   \n",
       "\n",
       "                                                text        date  stars  \n",
       "0  Sometimes things happen, and when they do this...  2010-12-30      5  \n",
       "1  I know Kerrie through my networking and we ben...  2011-04-26      5  \n",
       "2  Love their pizza!!!\\nVery fresh. Their cannoli...  2012-09-28      5  \n",
       "3  Being from NJ I am always on the prowl for my ...  2009-06-07      4  \n",
       "4  We have tried this spot a few times and each v...  2011-02-20      4  "
      ]
     },
     "execution_count": 21,
     "metadata": {},
     "output_type": "execute_result"
    }
   ],
   "source": [
    "data.head()"
   ]
  },
  {
   "cell_type": "code",
   "execution_count": 22,
   "metadata": {},
   "outputs": [],
   "source": [
    "train_time_array = array(data.date)\n",
    "test_time_array = array(test.date)\n",
    "\n",
    "#train\n",
    "train_year_array = np.empty_like(train_time_array) #Initialize nparra with same size as train data (Year)\n",
    "train_month_array = np.empty_like(train_time_array) #Initialize nparra with same size as train data (Month)\n",
    "train_day_array = np.empty_like(train_time_array) #Initialize nparra with same size as train data (Day)\n",
    "#test\n",
    "test_year_array = np.empty_like(test_time_array) #Initialize nparra with same size as train data (Year)\n",
    "test_month_array = np.empty_like(test_time_array) #Initialize nparra with same size as train data (Month)\n",
    "test_day_array = np.empty_like(test_time_array)\n",
    "\n",
    "#train\n",
    "for i in range(len(data)): #Split the date and the time \n",
    "    train_date = datetime.datetime.strptime(train_time_array[i], \"%Y-%m-%d\")\n",
    "    train_year_array[i] = train_date.year\n",
    "    train_month_array[i] = train_date.month\n",
    "    train_day_array[i] = train_date.day\n",
    "#test   \n",
    "for i in range(len(test)): #Split the date and the time \n",
    "    test_date = datetime.datetime.strptime(test_time_array[i], \"%Y-%m-%d\")\n",
    "    test_year_array[i] = test_date.year\n",
    "    test_month_array[i] = test_date.month\n",
    "    test_day_array[i] = test_date.day\n",
    "   \n"
   ]
  },
  {
   "cell_type": "code",
   "execution_count": 143,
   "metadata": {},
   "outputs": [
    {
     "data": {
      "image/png": "[encoded data removed]",
      "text/plain": [
       "<matplotlib.figure.Figure at 0x185b8a390>"
      ]
     },
     "metadata": {},
     "output_type": "display_data"
    }
   ],
   "source": [
    "#plt.scatter(x=train_year_array,y=data.stars,alpha=.05)\n",
    "plt.scatter(x=data.business_id,y=data.stars,alpha=.01)\n",
    "plt.show()"
   ]
  },
  {
   "cell_type": "code",
   "execution_count": 25,
   "metadata": {
    "scrolled": true
   },
   "outputs": [],
   "source": [
    "pw = []\n",
    "for i in range(len(data)):\n",
    "    pw = np.append(pw,0)\n",
    "    \n",
    "for i in range(len(data)):\n",
    "    count = 0\n",
    "    for j in range(len(positive_word.word)):\n",
    "        word = positive_word.word[j]\n",
    "        string = data.text[i]\n",
    "        if word in string:\n",
    "            count = count +1\n",
    "            pw[i] = count\n"
   ]
  },
  {
   "cell_type": "code",
   "execution_count": 107,
   "metadata": {},
   "outputs": [],
   "source": [
    "pw_test = []\n",
    "for i in range(len(test)):\n",
    "    pw_test = np.append(pw_test,0)\n",
    "    \n",
    "for i in range(len(test)):\n",
    "    count = 0\n",
    "    for j in range(len(positive_word.word)):\n",
    "        word = positive_word.word[j]\n",
    "        string = test.text[i]\n",
    "        if word in string:\n",
    "            count = count +1\n",
    "            pw_test[i] = count\n",
    "\n"
   ]
  },
  {
   "cell_type": "code",
   "execution_count": 124,
   "metadata": {},
   "outputs": [],
   "source": [
    "nw = []\n",
    "for i in range(len(data)):\n",
    "    nw = np.append(nw,0)\n",
    "    \n",
    "for i in range(len(data)):\n",
    "    count = 0\n",
    "    for j in range(len(negative_word.word)):\n",
    "        word = negative_word.word[j]\n",
    "        string = data.text[i]\n",
    "        if word in string:\n",
    "            count = count -1\n",
    "            nw[i] = count\n",
    "\n"
   ]
  },
  {
   "cell_type": "code",
   "execution_count": 126,
   "metadata": {},
   "outputs": [],
   "source": [
    "nw_test = []\n",
    "for i in range(len(test)):\n",
    "    nw_test = np.append(nw_test,0)\n",
    "    \n",
    "for i in range(len(test)):\n",
    "    count = 0\n",
    "    for j in range(len(negative_word.word)):\n",
    "        word = negative_word.word[j]\n",
    "        string = test.text[i]\n",
    "        if word in string:\n",
    "            count = count -1\n",
    "            nw_test[i] = count\n",
    "\n",
    "\n"
   ]
  },
  {
   "cell_type": "code",
   "execution_count": 61,
   "metadata": {
    "scrolled": true
   },
   "outputs": [
    {
     "data": {
      "text/plain": [
       "'I know Kerrie through my networking and we benefit from her presence.\\n\\nI have not needed her service\\'s and most of us don\\'t plan on needing an attorney. But I am always reminded by a tagline that Kerrie often mentions. \\n\\n\"People in crisis need company, Droban & Company\". \\n\\nHow very true. When that time comes, and in these troubled days, it WILL. You will need good company. I would look for Kerrie to help and so should you.'"
      ]
     },
     "execution_count": 61,
     "metadata": {},
     "output_type": "execute_result"
    }
   ],
   "source": [
    "data.text[1]"
   ]
  },
  {
   "cell_type": "code",
   "execution_count": 86,
   "metadata": {},
   "outputs": [],
   "source": [
    "pw = pd.Series(pw)\n",
    "nw = pd.Series(nw)\n",
    "#test\n",
    "pw_test = pd.Series(pw_test)"
   ]
  },
  {
   "cell_type": "code",
   "execution_count": 87,
   "metadata": {},
   "outputs": [],
   "source": [
    "for i in range(len(nw)):\n",
    "    nw[i] = 0 - nw[i]"
   ]
  },
  {
   "cell_type": "code",
   "execution_count": 91,
   "metadata": {},
   "outputs": [
    {
     "data": {
      "image/png": "[encoded data removed]",
      "text/plain": [
       "<matplotlib.figure.Figure at 0x111223828>"
      ]
     },
     "metadata": {},
     "output_type": "display_data"
    }
   ],
   "source": [
    "#plt.scatter(x=data.stars,y=pw,alpha=.1)\n",
    "plt.scatter(x=test.index,y=pw_test,alpha=.1)\n",
    "plt.show()"
   ]
  },
  {
   "cell_type": "code",
   "execution_count": 231,
   "metadata": {},
   "outputs": [
    {
     "name": "stdout",
     "output_type": "stream",
     "text": [
      "(7997, 1)\n"
     ]
    },
    {
     "name": "stderr",
     "output_type": "stream",
     "text": [
      "/anaconda3/envs/python_test/lib/python3.6/site-packages/ipykernel_launcher.py:18: FutureWarning: reshape is deprecated and will raise in a subsequent release. Please use .values.reshape(...) instead\n",
      "/anaconda3/envs/python_test/lib/python3.6/site-packages/ipykernel_launcher.py:20: FutureWarning: reshape is deprecated and will raise in a subsequent release. Please use .values.reshape(...) instead\n"
     ]
    }
   ],
   "source": [
    "Year = train_year_array\n",
    "Year = Year.reshape(len(Year),1)\n",
    "#test\n",
    "Year_T = test_year_array\n",
    "Year_T = Year_T.reshape(len(Year_T),1)\n",
    "\n",
    "Month = train_month_array\n",
    "Month = Month.reshape(len(Month),1)\n",
    "#test\n",
    "Month_T = test_month_array\n",
    "Month_T = Month_T.reshape(len(Month_T),1)\n",
    "\n",
    "\n",
    "Date = train_day_array\n",
    "Date = Date.reshape(len(Date),1)\n",
    "\n",
    "Business = data.business_id\n",
    "Business = Business.reshape(len(Business),1)\n",
    "Business_T = test.business_id\n",
    "Business_T = Business_T.reshape(len(Business_T),1)\n",
    "\n",
    "Result = text_result\n",
    "\n",
    "Reduced = reduced\n",
    "#test\n",
    "Reduced_Test = reduced_test\n",
    "\n",
    "Positive_Word = pw\n",
    "Positive_Word = Positive_Word.reshape(len(Positive_Word),1)\n",
    "#test\n",
    "Positive_Word_Test = pw_test\n",
    "Positive_Word_Test = Positive_Word_Test.reshape(len(Positive_Word_Test),1)\n",
    "\n",
    "Negative_Word = nw\n",
    "Negative_Word = Negative_Word.reshape(len(Negative_Word),1)\n",
    "#test\n",
    "Negative_Word_Test = nw_test\n",
    "Negative_Word_Test = Negative_Word_Test.reshape(len(Negative_Word_Test),1)\n",
    "\n",
    "Star = data.stars\n",
    "Star = Star.values.reshape(len(Star),1)\n",
    "\n",
    "\n",
    "print(Positive_Word.shape)"
   ]
  },
  {
   "cell_type": "code",
   "execution_count": 238,
   "metadata": {},
   "outputs": [
    {
     "name": "stdout",
     "output_type": "stream",
     "text": [
      "(7997, 4)\n",
      "(7997, 1)\n",
      "(2003, 4)\n"
     ]
    }
   ],
   "source": [
    "# concat data\n",
    "X = np.concatenate((Negative_Word,Positive_Word,Reduced), axis = 1)\n",
    "X_test = np.concatenate((Negative_Word_Test,Positive_Word_Test,Reduced_Test), axis = 1)\n",
    "\n",
    "#X = Reduced\n",
    "#X_test = Reduced_Test\n",
    "Y = Star\n",
    "print(X.shape)\n",
    "print(Y.shape)\n",
    "print(X_test.shape)\n",
    "#X_train = np.array(X_train)\n",
    "#Y = np.array(Y)\n",
    "#X_test = np.array(X_test)\n",
    "#print(X_test.shape)\n",
    "#print(X_train.shape)"
   ]
  },
  {
   "cell_type": "code",
   "execution_count": 239,
   "metadata": {},
   "outputs": [],
   "source": [
    "# split data to train and validation data\n",
    "from sklearn.model_selection import train_test_split\n",
    "X_train, X_validation, Y_train, Y_validation = train_test_split(X, Y, test_size=0.33, random_state=42)"
   ]
  },
  {
   "cell_type": "code",
   "execution_count": 32,
   "metadata": {},
   "outputs": [
    {
     "name": "stderr",
     "output_type": "stream",
     "text": [
      "/anaconda3/envs/python_test/lib/python3.6/site-packages/sklearn/cross_validation.py:41: DeprecationWarning: This module was deprecated in version 0.18 in favor of the model_selection module into which all the refactored classes and functions are moved. Also note that the interface of the new CV iterators are different from that of this module. This module will be removed in 0.20.\n",
      "  \"This module will be removed in 0.20.\", DeprecationWarning)\n",
      "Using TensorFlow backend.\n",
      "/anaconda3/envs/python_test/lib/python3.6/importlib/_bootstrap.py:219: RuntimeWarning: compiletime version 3.5 of module 'tensorflow.python.framework.fast_tensor_util' does not match runtime version 3.6\n",
      "  return f(*args, **kwds)\n"
     ]
    }
   ],
   "source": [
    "from sklearn.model_selection import GridSearchCV\n",
    "from sklearn.svm import SVC\n",
    "from sklearn.preprocessing import StandardScaler\n",
    "from sklearn.pipeline import Pipeline\n",
    "from sklearn.naive_bayes import GaussianNB\n",
    "from sklearn.ensemble import AdaBoostRegressor\n",
    "from sklearn.ensemble import AdaBoostClassifier\n",
    "from sklearn.linear_model import LogisticRegression\n",
    "from sklearn.ensemble import RandomForestRegressor\n",
    "from sklearn.svm import SVR\n",
    "from sklearn.metrics import mean_squared_error\n",
    "from math import sqrt\n",
    "from sklearn import tree\n",
    "from sklearn.cross_validation import KFold\n",
    "from sklearn.linear_model import LinearRegression, Lasso, Ridge, ElasticNet, SGDRegressor\n",
    "from sklearn.cross_validation import LabelKFold\n",
    "import pylab as pl\n",
    "\n",
    "\n",
    "from keras.models import Sequential\n",
    "from keras.layers import Dense, Dropout, Activation, Flatten\n",
    "import numpy as np\n",
    "import os"
   ]
  },
  {
   "cell_type": "code",
   "execution_count": 240,
   "metadata": {},
   "outputs": [
    {
     "name": "stderr",
     "output_type": "stream",
     "text": [
      "/anaconda3/envs/python_test/lib/python3.6/site-packages/sklearn/utils/validation.py:578: DataConversionWarning: A column-vector y was passed when a 1d array was expected. Please change the shape of y to (n_samples, ), for example using ravel().\n",
      "  y = column_or_1d(y, warn=True)\n"
     ]
    },
    {
     "name": "stdout",
     "output_type": "stream",
     "text": [
      "1.337823877523767\n"
     ]
    }
   ],
   "source": [
    "from sklearn import svm\n",
    "\n",
    "clf_SVM = svm.SVC()\n",
    "clf_SVM.fit(X_train, Y_train)\n",
    "\n",
    "Y_predicted = clf_SVM.predict(X_validation)\n",
    "rmse = sqrt(mean_squared_error(Y_validation,Y_predicted))\n",
    "print(rmse) \n",
    "\n",
    "#2 compo & Year -> 1.37"
   ]
  },
  {
   "cell_type": "code",
   "execution_count": 241,
   "metadata": {},
   "outputs": [
    {
     "name": "stdout",
     "output_type": "stream",
     "text": [
      "(2003,)\n"
     ]
    }
   ],
   "source": [
    "#SVM predict\n",
    "SVM_Y_test_predicted = clf_SVM.predict(X_test)\n",
    "print(SVM_Y_test_predicted.shape)\n",
    "\n",
    "Y_test_predicted_SVM = pd.Series(SVM_Y_test_predicted)\n",
    "Y_predict_svm = Y_test_predicted_SVM"
   ]
  },
  {
   "cell_type": "code",
   "execution_count": 242,
   "metadata": {},
   "outputs": [
    {
     "name": "stdout",
     "output_type": "stream",
     "text": [
      "1.4552673398049687\n"
     ]
    }
   ],
   "source": [
    "# multiclass\n",
    "from sklearn.svm import SVC\n",
    "from sklearn.multiclass import OneVsRestClassifier\n",
    "from sklearn.preprocessing import LabelBinarizer\n",
    "\n",
    "classif = OneVsRestClassifier(estimator=SVC(random_state=0))\n",
    "classif.fit(X_train, Y_train)\n",
    "Y_predicted = classif.predict(X_validation)\n",
    "rmse = sqrt(mean_squared_error(Y_validation,Y_predicted))\n",
    "print(rmse)\n",
    "\n"
   ]
  },
  {
   "cell_type": "code",
   "execution_count": 243,
   "metadata": {
    "scrolled": true
   },
   "outputs": [
    {
     "name": "stderr",
     "output_type": "stream",
     "text": [
      "/anaconda3/envs/python_test/lib/python3.6/site-packages/sklearn/utils/validation.py:578: DataConversionWarning: A column-vector y was passed when a 1d array was expected. Please change the shape of y to (n_samples, ), for example using ravel().\n",
      "  y = column_or_1d(y, warn=True)\n"
     ]
    },
    {
     "name": "stdout",
     "output_type": "stream",
     "text": [
      "1.1478420745411277\n"
     ]
    }
   ],
   "source": [
    "from sklearn.svm import SVR\n",
    "n_samples, n_features = 20, 10\n",
    "\n",
    "SVR(C=5.0, cache_size=100, coef0=0.0, degree=3, epsilon=0.2, gamma='auto',\n",
    "    kernel='rbf', max_iter=-1, shrinking=True, tol=0.001, verbose=False)\n",
    "clf_svr = SVR(C=5.0, epsilon=0.2)\n",
    "clf_svr.fit(X_train, Y_train) \n",
    "Y_predicted = clf_svr.predict(X_validation)\n",
    "rmse = sqrt(mean_squared_error(Y_validation,Y_predicted))\n",
    "print(rmse)\n",
    "\n"
   ]
  },
  {
   "cell_type": "code",
   "execution_count": 197,
   "metadata": {},
   "outputs": [
    {
     "name": "stdout",
     "output_type": "stream",
     "text": [
      "(2003,)\n"
     ]
    }
   ],
   "source": [
    "#SVR predict\n",
    "SVR_Y_test_predicted = clf_svr.predict(X_test)\n",
    "print(SVR_Y_test_predicted.shape)\n",
    "Y_test_predicted_svr = []\n",
    "Y_test_predicted_SVR = pd.Series(SVR_Y_test_predicted)\n",
    "#Y_test_predicted_SVR = Y_test_predicted_SVR.astype(int)\n",
    "for i in range(len(Y_test_predicted_SVR)):\n",
    "    r = round(Y_test_predicted_SVR[i]).astype(int)\n",
    "    Y_test_predicted_svr = np.append(Y_test_predicted_svr,r)\n",
    "        \n",
    "Y_predict_svr = Y_test_predicted_svr.astype(int)\n",
    "Y_predict_SVR = Y_test_predicted_SVR\n",
    "Predict_svr = []\n",
    "for i in range(len(Y_predict_svr)):\n",
    "    s = '{},{}'.format(test.review_id[i],Y_predict_svr[i])\n",
    "    Predict_svr = np.append(Predict_svr,s)\n",
    "Predict_svr = pd.Series(Predict_svr)\n",
    "#Predict_svr"
   ]
  },
  {
   "cell_type": "code",
   "execution_count": 65,
   "metadata": {
    "scrolled": true
   },
   "outputs": [],
   "source": [
    "Predict_svm = []\n",
    "for i in range(len(Y_predict_svm)):\n",
    "    s = '{},{}'.format(test.review_id[i],Y_predict_svm[i])\n",
    "    Predict_svm = np.append(Predict_svm,s)\n",
    "Predict_svm = pd.Series(Predict_svm)\n",
    "#Predict_svm"
   ]
  },
  {
   "cell_type": "code",
   "execution_count": 144,
   "metadata": {},
   "outputs": [
    {
     "name": "stderr",
     "output_type": "stream",
     "text": [
      "/anaconda3/envs/python_test/lib/python3.6/site-packages/sklearn/neural_network/multilayer_perceptron.py:912: DataConversionWarning: A column-vector y was passed when a 1d array was expected. Please change the shape of y to (n_samples, ), for example using ravel().\n",
      "  y = column_or_1d(y, warn=True)\n"
     ]
    },
    {
     "name": "stdout",
     "output_type": "stream",
     "text": [
      "1.2668560464489413\n"
     ]
    }
   ],
   "source": [
    "from sklearn.neural_network import MLPClassifier\n",
    "nn = MLPClassifier(solver='lbfgs', alpha=1e-5,hidden_layer_sizes=(5, 2), random_state=1)\n",
    "nn = nn.fit(X_train, Y_train)\n",
    "Y_predicted = nn.predict(X_validation)\n",
    "rmse = sqrt(mean_squared_error(Y_validation,Y_predicted))\n",
    "print(rmse)"
   ]
  },
  {
   "cell_type": "code",
   "execution_count": 198,
   "metadata": {},
   "outputs": [
    {
     "name": "stdout",
     "output_type": "stream",
     "text": [
      "(2003,)\n",
      "(2003,)\n"
     ]
    }
   ],
   "source": [
    "# neuron network\n",
    "# predict\n",
    "nn_Y_test_predicted = nn.predict(X_test)\n",
    "print(nn_Y_test_predicted.shape)\n",
    "\n",
    "nn_Y_test_predicted = pd.Series(nn_Y_test_predicted)\n",
    "#Y_test_predicted_nn.astype(int)\n",
    "Y_test_predicted_nn = []\n",
    "for i in range(len(nn_Y_test_predicted)):\n",
    "    n = round(nn_Y_test_predicted[i],0)\n",
    "    #print(t)\n",
    "    Y_test_predicted_nn = np.append(Y_test_predicted_nn,n)\n",
    "Y_test_predicted_nn = pd.Series(Y_test_predicted_nn)\n",
    "Y_predict_nn = Y_test_predicted_nn.astype(int)\n",
    "print(Y_predict_nn.shape)\n",
    "\n",
    "Predict_nn = []\n",
    "for i in range(len(Y_predict_nn)):\n",
    "    s = '{},{}'.format(test.review_id[i],Y_predict_nn[i])\n",
    "    Predict_nn = np.append(Predict_nn,s)\n",
    "Predict_nn = pd.Series(Predict_nn)\n",
    "#Predict_nn.astype(str)"
   ]
  },
  {
   "cell_type": "code",
   "execution_count": 234,
   "metadata": {},
   "outputs": [
    {
     "name": "stdout",
     "output_type": "stream",
     "text": [
      "1.6965874840128614\n"
     ]
    }
   ],
   "source": [
    "# dicision tree \n",
    "clftree = tree.DecisionTreeClassifier()\n",
    "clftree = clftree.fit(X_train, Y_train)\n",
    "Y_predicted = clftree.predict(X_validation)\n",
    "rmse = sqrt(mean_squared_error(Y_validation,Y_predicted))\n",
    "print(rmse)"
   ]
  },
  {
   "cell_type": "code",
   "execution_count": 147,
   "metadata": {},
   "outputs": [
    {
     "name": "stdout",
     "output_type": "stream",
     "text": [
      "(2003,)\n",
      "(2003,)\n"
     ]
    }
   ],
   "source": [
    "# decision tree\n",
    "# predict\n",
    "clftree_Y_test_predicted = clftree.predict(X_test)\n",
    "print(clftree_Y_test_predicted.shape)\n",
    "\n",
    "clftree_Y_test_predicted = pd.Series(clftree_Y_test_predicted)\n",
    "Y_test_predicted_t = []\n",
    "for i in range(len(clftree_Y_test_predicted)):\n",
    "    t = round(clftree_Y_test_predicted[i],0)\n",
    "    #print(t)\n",
    "    Y_test_predicted_t = np.append(Y_test_predicted_t,t)\n",
    "Y_test_predicted_t = pd.Series(Y_test_predicted_t)\n",
    "Y_test_predicted_t = Y_test_predicted_t.astype(int)\n",
    "Y_predict_t = Y_test_predicted_t\n",
    "print(Y_predict_t.shape)\n",
    "\n",
    "Predict_t = []\n",
    "for i in range(len(Y_predict_t)):\n",
    "    s = '{},{}'.format(test.review_id[i],Y_predict_t[i])\n",
    "    Predict_t = np.append(Predict_t,s)\n",
    "Predict_t = pd.Series(Predict_t)\n",
    "#Predict_t.astype(str)\n",
    "\n",
    "\n"
   ]
  },
  {
   "cell_type": "code",
   "execution_count": 245,
   "metadata": {},
   "outputs": [
    {
     "name": "stderr",
     "output_type": "stream",
     "text": [
      "/anaconda3/envs/python_test/lib/python3.6/site-packages/sklearn/utils/validation.py:578: DataConversionWarning: A column-vector y was passed when a 1d array was expected. Please change the shape of y to (n_samples, ), for example using ravel().\n",
      "  y = column_or_1d(y, warn=True)\n"
     ]
    },
    {
     "name": "stdout",
     "output_type": "stream",
     "text": [
      "1.344179371147386\n"
     ]
    }
   ],
   "source": [
    "from sklearn import ensemble\n",
    "clf = ensemble.GradientBoostingClassifier()\n",
    "clf_gb = clf.fit(X_train, Y_train)\n",
    "Y_predicted = clf_gb.predict(X_validation)\n",
    "rmse = sqrt(mean_squared_error(Y_validation,Y_predicted))\n",
    "print(rmse)"
   ]
  },
  {
   "cell_type": "code",
   "execution_count": 246,
   "metadata": {},
   "outputs": [
    {
     "name": "stdout",
     "output_type": "stream",
     "text": [
      "(2003,)\n",
      "(2003,)\n"
     ]
    }
   ],
   "source": [
    "#Gradiant Boosting\n",
    "# predict\n",
    "clfgb_Y_test_predicted = clf_gb.predict(X_test)\n",
    "print(clfgb_Y_test_predicted.shape)\n",
    "\n",
    "clfgb_Y_test_predicted = pd.Series(clfgb_Y_test_predicted)\n",
    "Y_test_predicted_gb = []\n",
    "for i in range(len(clfgb_Y_test_predicted)):\n",
    "    t = round(clftree_Y_test_predicted[i],0)\n",
    "    #print(t)\n",
    "    Y_test_predicted_gb = np.append(Y_test_predicted_gb,t)\n",
    "Y_test_predicted_gb = pd.Series(Y_test_predicted_gb)\n",
    "Y_test_predicted_gb = Y_test_predicted_gb.astype(int)\n",
    "Y_predict_gb = Y_test_predicted_gb\n",
    "print(Y_predict_gb.shape)\n",
    "\n",
    "Predict_gb = []\n",
    "for i in range(len(Y_predict_gb)):\n",
    "    s = '{},{}'.format(test.review_id[i],Y_predict_gb[i])\n",
    "    Predict_gb = np.append(Predict_gb,s)\n",
    "Predict_gb = pd.Series(Predict_gb)\n",
    "#Predict_gb.astype(str)\n",
    "\n"
   ]
  },
  {
   "cell_type": "code",
   "execution_count": 216,
   "metadata": {},
   "outputs": [],
   "source": [
    "### Save Text ###\n",
    "fmt='%s'\n",
    "np.savetxt(\"Predict_gb.txt\", Predict_gb, fmt=fmt,delimiter='\\t')"
   ]
  },
  {
   "cell_type": "code",
   "execution_count": 217,
   "metadata": {},
   "outputs": [],
   "source": [
    "txt = [] #Initial the list \n",
    "with open('Predict_gb.txt') as f:\n",
    "    for line in f: #For loop for read the file line by line\n",
    "        inner_list = [elt.strip() for elt in line.split(',')] #Read each line of file and split the string with respect to ,(comma)\n",
    "        txt.append(inner_list) #Append each line of the file into the list \n",
    "df_txt = pd.DataFrame(txt) # Transform the file data type from list to dataframe\n",
    "df_txt.to_csv('predict_gb.csv')"
   ]
  },
  {
   "cell_type": "code",
   "execution_count": null,
   "metadata": {},
   "outputs": [],
   "source": []
  }
 ],
 "metadata": {
  "kernelspec": {
   "display_name": "Python 3",
   "language": "python",
   "name": "python3"
  },
  "language_info": {
   "codemirror_mode": {
    "name": "ipython",
    "version": 3
   },
   "file_extension": ".py",
   "mimetype": "text/x-python",
   "name": "python",
   "nbconvert_exporter": "python",
   "pygments_lexer": "ipython3",
   "version": "3.6.3"
  }
 },
 "nbformat": 4,
 "nbformat_minor": 2
}
